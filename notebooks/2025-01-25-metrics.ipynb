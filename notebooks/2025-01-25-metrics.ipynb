{
 "cells": [
  {
   "cell_type": "code",
   "execution_count": 1,
   "metadata": {},
   "outputs": [],
   "source": [
    "%load_ext autoreload\n",
    "%autoreload 2"
   ]
  },
  {
   "cell_type": "code",
   "execution_count": 2,
   "metadata": {},
   "outputs": [],
   "source": [
    "import argparse\n",
    "import json\n",
    "from pathlib import Path\n",
    "from statistics import mean\n",
    "from typing import Dict, List"
   ]
  },
  {
   "cell_type": "code",
   "execution_count": 4,
   "metadata": {},
   "outputs": [
    {
     "name": "stdout",
     "output_type": "stream",
     "text": [
      "\n",
      "Results:\n",
      "Number of examples processed: 35\n",
      "Code Precision: 0.283\n",
      "Code Recall: 0.351\n",
      "Test Precision: 0.233\n",
      "Test Recall: 0.250\n"
     ]
    }
   ],
   "source": [
    "def calculate_aggregate_metrics(results: List[Dict]) -> Dict[str, float]:\n",
    "    \"\"\"Calculate average metrics across all results.\"\"\"\n",
    "    metrics = {\n",
    "        \"code_precision\": [],\n",
    "        \"code_recall\": [],\n",
    "        \"test_precision\": [],\n",
    "        \"test_recall\": []\n",
    "    }\n",
    "    \n",
    "    for result in results:\n",
    "        if result is None:\n",
    "            continue\n",
    "        for metric in metrics:\n",
    "            metrics[metric].append(result[metric])\n",
    "    \n",
    "    return {\n",
    "        metric: mean(values) if values else 0.0 \n",
    "        for metric, values in metrics.items()\n",
    "    }\n",
    "\n",
    "results_path = Path(\"../results/2025-01-25-file-selection-o1-preview-2024-09-12\")\n",
    "\n",
    "# Load all result files\n",
    "all_results = []\n",
    "for result_file in results_path.glob(\"*.json\"):\n",
    "    if result_file.name == \"aggregate_metrics.json\":\n",
    "        continue\n",
    "        \n",
    "    try:\n",
    "        with open(result_file) as f:\n",
    "            result = json.load(f)\n",
    "            all_results.append(result)\n",
    "    except Exception as e:\n",
    "        print(f\"Error loading {result_file}: {str(e)}\")\n",
    "        continue\n",
    "\n",
    "# Calculate and display aggregate metrics\n",
    "aggregate_metrics = calculate_aggregate_metrics(all_results)\n",
    "print(\"\\nResults:\")\n",
    "print(f\"Number of examples processed: {len(all_results)}\")\n",
    "print(f\"Code Precision: {aggregate_metrics['code_precision']:.3f}\")\n",
    "print(f\"Code Recall: {aggregate_metrics['code_recall']:.3f}\")\n",
    "print(f\"Test Precision: {aggregate_metrics['test_precision']:.3f}\")\n",
    "print(f\"Test Recall: {aggregate_metrics['test_recall']:.3f}\")"
   ]
  },
  {
   "cell_type": "code",
   "execution_count": null,
   "metadata": {},
   "outputs": [],
   "source": []
  }
 ],
 "metadata": {
  "kernelspec": {
   "display_name": ".venv",
   "language": "python",
   "name": "python3"
  },
  "language_info": {
   "codemirror_mode": {
    "name": "ipython",
    "version": 3
   },
   "file_extension": ".py",
   "mimetype": "text/x-python",
   "name": "python",
   "nbconvert_exporter": "python",
   "pygments_lexer": "ipython3",
   "version": "3.12.4"
  }
 },
 "nbformat": 4,
 "nbformat_minor": 2
}
