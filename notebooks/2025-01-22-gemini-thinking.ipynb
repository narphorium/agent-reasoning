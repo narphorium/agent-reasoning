{
 "cells": [
  {
   "cell_type": "code",
   "execution_count": 1,
   "metadata": {},
   "outputs": [],
   "source": [
    "%load_ext dotenv\n",
    "%dotenv"
   ]
  },
  {
   "cell_type": "code",
   "execution_count": 2,
   "metadata": {},
   "outputs": [],
   "source": [
    "import os\n",
    "from google import genai"
   ]
  },
  {
   "cell_type": "code",
   "execution_count": 3,
   "metadata": {},
   "outputs": [],
   "source": [
    "API_KEY = os.getenv('GEMINI_API_KEY')\n",
    "client = genai.Client(api_key=API_KEY, http_options={'api_version':'v1alpha'})\n",
    "\n",
    "MODEL_NAME = \"gemini-2.0-flash-thinking-exp-01-21\""
   ]
  },
  {
   "cell_type": "code",
   "execution_count": 5,
   "metadata": {},
   "outputs": [
    {
     "name": "stdout",
     "output_type": "stream",
     "text": [
      "<thinking>\n",
      "My thinking process to answer \"Why is the sky blue?\" would go something like this:\n",
      "\n",
      "1. **Identify the core question:** The user wants to know the reason for the sky's blue color.  This is a common science question, specifically related to atmospheric optics.\n",
      "\n",
      "2. **Recall relevant scientific concepts:**  I know the sky's color is related to sunlight and the atmosphere.  The key concepts that come to mind are:\n",
      "    * **Sunlight:** White light, composed of different colors.\n",
      "    * **Atmosphere:**  Primarily nitrogen and oxygen molecules, plus other particles.\n",
      "    * **Light interaction with matter:** Light can be absorbed, reflected, refracted, and *scattered*.\n",
      "    * **Scattering:**  This is the most likely culprit.  I remember something about different colors of light scattering differently.\n",
      "    * **Rayleigh scattering:**  This specific type of scattering, where the scattering particle is much smaller than the wavelength of light, is likely relevant.  It's associated with the scattering of light by air molecules.\n",
      "    * **Wavelength and color:**  Shorter wavelengths (blue, violet) are scattered more than longer wavelengths (red, orange).\n",
      "\n",
      "3. **Structure the explanation:** I need to build a clear and logical explanation.  A good structure would be:\n",
      "    * **Start with the basic premise:** Sunlight is white light, composed of all colors.\n",
      "    * **Explain what happens when sunlight enters the atmosphere:** It interacts with air molecules.\n",
      "    * **Introduce scattering:**  Explain that air molecules scatter light.\n",
      "    * **Explain Rayleigh scattering (if appropriate level):** If aiming for a slightly more technical answer, explain *why* blue light is scattered more (shorter wavelength).  If aiming for a simpler explanation, just state that blue light *is* scattered more.\n",
      "    * **Explain why we see blue:**  Scattered blue light reaches our eyes from all directions of the sky.\n",
      "    * **Address why it's not violet:**  Violet is scattered even *more* than blue, but sunlight has less violet, and our eyes are less sensitive to violet.  Also, some violet light is scattered away before reaching us. This is a crucial point to make the explanation complete and address a common follow-up question.\n",
      "    * **Address other times of day (sunrise/sunset):** Briefly explain why the sky is red/orange at sunrise/sunset, connecting it back to scattering and the longer path of light through the atmosphere.  This reinforces the explanation and shows a broader understanding of the phenomenon.\n",
      "    * **Summarize the key takeaway:**  Blue sky is due to the scattering of sunlight by air molecules, with blue light being scattered more.\n",
      "\n",
      "4. **Refine and simplify the language:**  Avoid overly technical jargon.  Use clear and concise language.  For example, instead of saying \"electromagnetic radiation,\" say \"sunlight\" or \"light.\"  Instead of \"wavelength dependence,\" say \"shorter wavelengths are scattered more.\"  The goal is to be understandable to a general audience.\n",
      "\n",
      "5. **Consider the audience:**  Is this for a child, a student, or a general adult?  Adjust the level of detail and complexity accordingly. For a general audience, a slightly simplified explanation focusing on the main points is best.\n",
      "\n",
      "6. **Review and iterate:**  Read through the explanation to make sure it is accurate, clear, and logically flows.  Check for any missing pieces or areas that could be explained better.  For example, initially, I might have just said \"blue light is scattered more,\" but then realized I should explain *why* (shorter wavelength).  Also, remembering to explain *why not violet* is important.  And connecting to sunrise/sunset adds depth.\n",
      "\n",
      "\n",
      "By following these steps, I can construct a comprehensive and understandable explanation of why the sky is blue, similar to the example answer you provided.  The key is to break down the complex phenomenon into simpler, digestible parts and explain them logically, using appropriate terminology and examples.\n",
      "</thinking>\n",
      "\n",
      "The sky is blue because of a phenomenon called **Rayleigh scattering**. Here's a breakdown of why this happens:\n",
      "\n",
      "**1. Sunlight is White Light (and made of all colors):**\n",
      "\n",
      "* Sunlight, as it reaches Earth's atmosphere, is actually composed of all the colors of the rainbow mixed together.  We perceive this mixture as white light.\n",
      "\n",
      "**2. Sunlight Enters the Atmosphere:**\n",
      "\n",
      "* As sunlight travels through the Earth's atmosphere, it encounters tiny particles like nitrogen and oxygen molecules. These molecules are much smaller than the wavelengths of visible light.\n",
      "\n",
      "**3. Scattering Happens:**\n",
      "\n",
      "* When sunlight hits these tiny air molecules, it gets scattered in different directions.  Think of it like tiny ping-pong balls (air molecules) bouncing off a bigger ball (sunlight).\n",
      "\n",
      "**4. Rayleigh Scattering - Blue Light is Scattered More:**\n",
      "\n",
      "* **Rayleigh scattering** is the type of scattering that happens when light interacts with particles much smaller than its wavelength.  And here's the crucial part:\n",
      "    * **Shorter wavelengths of light are scattered more effectively than longer wavelengths.**\n",
      "    * In the visible spectrum, blue and violet light have shorter wavelengths, while red and orange light have longer wavelengths.\n",
      "\n",
      "* This means that blue and violet light are scattered much more by the air molecules than red, orange, and yellow light.\n",
      "\n",
      "**5. Why We See Blue, Not Violet:**\n",
      "\n",
      "* Although violet light is scattered even *more* than blue light, the sky appears blue to us for a few reasons:\n",
      "    * **Sunlight contains less violet light than blue light.** The sun's spectrum is slightly weaker in the violet end.\n",
      "    * **Our eyes are less sensitive to violet light.**  Our eyes are more sensitive to blue and green light than violet.\n",
      "    * **The atmosphere absorbs some violet light.** As violet light travels through the atmosphere, some of it is absorbed by the upper atmosphere.\n",
      "\n",
      "**6. The Result: A Blue Sky:**\n",
      "\n",
      "* Because blue light is scattered much more than other colors, it gets scattered in all directions across the sky.  When we look up at the sky, we are seeing this scattered blue light coming from all directions.  This is why the sky appears blue.\n",
      "\n",
      "**In simpler terms:**\n",
      "\n",
      "Imagine throwing a handful of small marbles (blue light) and a handful of larger marbles (red light) at a bunch of tiny obstacles (air molecules). The smaller marbles are more likely to bounce off in all directions, filling the space around you. The larger marbles are more likely to go straight through or be deflected less.  The \"space around you\" becomes filled with the scattered smaller marbles (blue light), which is what you see when you look at the sky.\n",
      "\n",
      "**What about Sunrises and Sunsets?**\n",
      "\n",
      "At sunrise and sunset, the sunlight has to travel through a much longer path in the atmosphere to reach our eyes.  During this longer path:\n",
      "\n",
      "* **Blue light gets scattered away:**  Most of the blue light is scattered away by the time it reaches us.\n",
      "* **Red and orange light reaches our eyes:** Because red and orange light are scattered less, they are able to penetrate the atmosphere more directly and reach our eyes. This is why sunrises and sunsets appear reddish or orangish.\n",
      "\n",
      "**In summary, the sky is blue because of Rayleigh scattering, which preferentially scatters blue light from sunlight in all directions by the tiny molecules in Earth's atmosphere.**"
     ]
    }
   ],
   "source": [
    "config = {'thinking_config': {'include_thoughts': True}}\n",
    "response = client.models.generate_content(\n",
    "    model=MODEL_NAME,\n",
    "    contents='Why is the sky blue?',\n",
    "    config=config\n",
    ")\n",
    "\n",
    "\n",
    "is_thinking = False\n",
    "started_thinking = False\n",
    "for part in response.candidates[0].content.parts:\n",
    "    if part.thought:\n",
    "        is_thinking = True\n",
    "        if not started_thinking:\n",
    "            started_thinking = True\n",
    "            print(\"<thinking>\")\n",
    "        print(part.text or \"\", end=\"\")\n",
    "    else:\n",
    "        if is_thinking:\n",
    "            print(\"\\n</thinking>\\n\")\n",
    "            is_thinking = False\n",
    "        print(part.text or \"\", end=\"\")"
   ]
  }
 ],
 "metadata": {
  "kernelspec": {
   "display_name": ".venv",
   "language": "python",
   "name": "python3"
  },
  "language_info": {
   "codemirror_mode": {
    "name": "ipython",
    "version": 3
   },
   "file_extension": ".py",
   "mimetype": "text/x-python",
   "name": "python",
   "nbconvert_exporter": "python",
   "pygments_lexer": "ipython3",
   "version": "3.12.4"
  }
 },
 "nbformat": 4,
 "nbformat_minor": 2
}
