{
 "cells": [
  {
   "cell_type": "code",
   "execution_count": null,
   "metadata": {},
   "outputs": [],
   "source": [
    "%load_ext dotenv\n",
    "%dotenv"
   ]
  },
  {
   "cell_type": "code",
   "execution_count": null,
   "metadata": {},
   "outputs": [
    {
     "name": "stderr",
     "output_type": "stream",
     "text": [
      "/Users/simister/Documents/GitHub/agent-reasoning/.venv/lib/python3.12/site-packages/tqdm/auto.py:21: TqdmWarning: IProgress not found. Please update jupyter and ipywidgets. See https://ipywidgets.readthedocs.io/en/stable/user_install.html\n",
      "  from .autonotebook import tqdm as notebook_tqdm\n"
     ]
    }
   ],
   "source": [
    "import os\n",
    "import google.generativeai as genai\n",
    "from pathlib import Path\n",
    "import json\n",
    "\n",
    "API_KEY = os.getenv('GEMINI_API_KEY')"
   ]
  },
  {
   "cell_type": "code",
   "execution_count": 3,
   "metadata": {},
   "outputs": [],
   "source": [
    "genai.configure(api_key=API_KEY)\n",
    "\n",
    "MODEL_NAME = \"gemini-2.0-flash-thinking-exp-01-21\""
   ]
  },
  {
   "cell_type": "code",
   "execution_count": 4,
   "metadata": {},
   "outputs": [
    {
     "name": "stdout",
     "output_type": "stream",
     "text": [
      "The sky is blue because of a phenomenon called **Rayleigh scattering**.  Here's a breakdown of why:\n",
      "\n",
      "**1. Sunlight is White Light (but made of all colors):**\n",
      "\n",
      "* Sunlight looks white to us, but it's actually composed of all the colors of the rainbow (red, orange, yellow, green, blue, indigo, violet).  You can see this when sunlight passes through a prism and gets split into its component colors.\n",
      "\n",
      "**2. Sunlight Enters the Earth's Atmosphere:**\n",
      "\n",
      "* The Earth's atmosphere is made up of tiny particles, mostly nitrogen and oxygen molecules, which are much smaller than the wavelengths of visible light.\n",
      "\n",
      "**3. Light Interacts with the Atmosphere: Scattering**\n",
      "\n",
      "* When sunlight enters the atmosphere, it collides with these tiny particles. This collision causes the light to be scattered in different directions.  Think of it like bouncing tiny balls (light waves) off even tinier obstacles (air molecules).\n",
      "\n",
      "**4. Rayleigh Scattering and Wavelengths:**\n",
      "\n",
      "* **Rayleigh scattering is wavelength-dependent.** This means that shorter wavelengths of light (like blue and violet) are scattered much more effectively than longer wavelengths (like red and orange).\n",
      "* **Why?**  Imagine the light waves as ripples in water. Shorter ripples (blue light) are more easily disrupted and bounced around by small obstacles (air molecules) than longer, smoother ripples (red light).\n",
      "\n",
      "**5. Blue Light is Scattered More:**\n",
      "\n",
      "* Because blue and violet light have shorter wavelengths, they are scattered about five to ten times more strongly than red and orange light by the air molecules in the atmosphere.\n",
      "\n",
      "**6. We See the Scattered Blue Light:**\n",
      "\n",
      "* When we look up at the sky on a clear day, we are seeing this scattered blue light.  Our eyes perceive the sky as blue because blue light is scattered in all directions and reaches our eyes from all parts of the sky.\n",
      "\n",
      "**Why not Violet Sky then?**\n",
      "\n",
      "* **Sunlight contains less violet light than blue light:**  The sun emits slightly less violet light than blue light.\n",
      "* **Our eyes are less sensitive to violet:** Our eyes are more sensitive to blue light than violet light.\n",
      "* **The atmosphere absorbs some violet light:** The upper atmosphere absorbs some violet light before it even reaches the lower atmosphere where most scattering occurs.\n",
      "\n",
      "**In summary:**\n",
      "\n",
      "The sky is blue because blue light is scattered more than other colors by the tiny molecules in the Earth's atmosphere. This scattered blue light is what we see when we look up.\n",
      "\n",
      "**Think of it like this analogy:**\n",
      "\n",
      "Imagine throwing a mix of small and large balls at a field of tiny obstacles. The small balls (blue light) will bounce off the obstacles much more easily and in many directions than the larger balls (red light), which will mostly pass through or bounce forward.  The field will appear to be filled with the scattered small balls (blue light).\n"
     ]
    }
   ],
   "source": [
    "prompt = f\"Why is the sky blue?\"\n",
    "\n",
    "model = genai.GenerativeModel(MODEL_NAME)\n",
    "response = model.generate_content(prompt)\n",
    "\n",
    "print(response.text)"
   ]
  }
 ],
 "metadata": {
  "kernelspec": {
   "display_name": ".venv",
   "language": "python",
   "name": "python3"
  },
  "language_info": {
   "codemirror_mode": {
    "name": "ipython",
    "version": 3
   },
   "file_extension": ".py",
   "mimetype": "text/x-python",
   "name": "python",
   "nbconvert_exporter": "python",
   "pygments_lexer": "ipython3",
   "version": "3.12.4"
  }
 },
 "nbformat": 4,
 "nbformat_minor": 2
}
