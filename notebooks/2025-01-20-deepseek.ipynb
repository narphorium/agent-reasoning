{
 "cells": [
  {
   "cell_type": "code",
   "execution_count": 13,
   "metadata": {},
   "outputs": [
    {
     "name": "stdout",
     "output_type": "stream",
     "text": [
      "The autoreload extension is already loaded. To reload it, use:\n",
      "  %reload_ext autoreload\n"
     ]
    }
   ],
   "source": [
    "%load_ext autoreload\n",
    "%autoreload 2"
   ]
  },
  {
   "cell_type": "code",
   "execution_count": 14,
   "metadata": {},
   "outputs": [],
   "source": [
    "from ollama import generate"
   ]
  },
  {
   "cell_type": "code",
   "execution_count": 36,
   "metadata": {},
   "outputs": [
    {
     "name": "stdout",
     "output_type": "stream",
     "text": [
      "\n",
      "Alright, so I need to figure out the weather for New York City. The user has provided a specific question asking about the weather in NYC. My task is to come up with a plan on which tools to use and how to call them.\n",
      "\n",
      "First, I recall that there are two tools available: get_weather and get_news. Both require a city name as an argument. Since the question is specifically about the weather, using get_weather makes sense here. There's no mention of needing news for this particular query, so get_news isn't necessary in this case.\n",
      "\n",
      "Next, I need to construct the tool tag correctly. The syntax requires the tool name, which is \"get_weather\", followed by the city name inside quotes. So it would be <tool name=\"get_weather\">New York City</tool>. That should return the current weather information for New York City.\n",
      "\n",
      "I should make sure that the city name is correctly formatted and that I'm using the right tool for the job. Since the question is solely about the weather, there's no need to include get_news unless additional context is provided later. But as it stands, using get_weather is sufficient and accurate.\n",
      "</think>\n",
      "\n",
      "<tool name=\"get_weather\">New York City</tool>"
     ]
    }
   ],
   "source": [
    "model = 'hf.co/unsloth/DeepSeek-R1-Distill-Llama-8B-GGUF:Q8_0'\n",
    "stream = generate(model=model, prompt='''\\\n",
    "Your task is to come up with a plan for which tools to call and how to call them.\n",
    "When you answer questions, you will have access two tools that you can use to find out more information:\n",
    "1. get_weather(city: str) -> str: Returns the current weather in the given city.\n",
    "2. get_news(city: str) -> str: Returns the latest news in the given city.\n",
    "                  \n",
    "You use them inside a <tool> tag, and the results will be printed in an <answer> tag.\n",
    "\n",
    "Your answer should be formatted like this:\n",
    "\n",
    "<tool name=\"get_weather\">the city name</tool>\n",
    "                                   \n",
    "\n",
    "<｜User｜>\n",
    "What is the weather for New York City?                  \n",
    "<｜Assistant｜>''', stream=True)\n",
    "\n",
    "# stream = generate(model=model, prompt='''\\\n",
    "# <｜User｜>Why is the sky blue? (I want your answer to be in English and your thinking to be in Spanish and very terse.)\n",
    "# <｜Assistant｜>''', stream=True)\n",
    "# , stream=True)\n",
    "\n",
    "for chunk in stream:\n",
    "    print(chunk.response, end=\"\")"
   ]
  },
  {
   "cell_type": "code",
   "execution_count": 39,
   "metadata": {},
   "outputs": [
    {
     "name": "stdout",
     "output_type": "stream",
     "text": [
      "<think>\n",
      "Alright, so I'm trying to figure out what the weather is like in Hilo, Hawaii. I know that Hawaii has beautiful beaches and sunny weather usually, but I'm not sure about Hilo specifically. Maybe it's one of those places where it's always warm or if there are any rainy seasons. Let me think about how to get this information.\n",
      "\n",
      "I remember the user mentioned two tools: `get_weather` and `get_news`. Since the question is about weather, using `get_weather` makes sense. I should format it within a `<tool>` tag followed by an `<answer>` with the actual weather data. But wait, do I know how to use these tools correctly? The user said that inside a `<tool>` tag, you use the tool name and the argument. So for the weather in Hilo, it would be `get_weather Hilo`.\n",
      "\n",
      "Once I have the data from the tool, I need to present it within an `<answer>` tag. It should be on a new line after the tool's results. But what if the weather data comes back as text? Do I just copy-paste it into the answer? Also, I should make sure that each result is properly separated with line breaks for clarity.\n",
      "\n",
      "Another thing to consider: do I need any additional information besides the current temperature and whether it's raining? Maybe humidity or wind speed would be helpful. But since the tool only returns a string, I might just have to go with what it provides. Also, if there are multiple results, I should format each one correctly.\n",
      "\n",
      "Wait, in the previous example, after using `get_news New York City`, they had two lines: one for the tool and then the answer. So I need to follow that structure. First, write the `<tool>` tag with the name and argument, then the `<answer>` with the result.\n",
      "\n",
      "Also, should I make sure there's a blank line between each tool and its answer? In the example, after the tool, there was an empty line before the answer started. Let me check that again:\n",
      "\n",
      "```\n",
      "<tool name=\"get_news\">New York City</tool>\n",
      "\n",
      "and then the answers will follow on the subsequent lines within an <answer> tag.\n",
      "                                   \n",
      "                                   \n",
      "<answer>There was a volcanic erruption in Manhatton today. It was a big deal.</answer>\n",
      "```\n",
      "\n",
      "So yes, there are line breaks before and after the `<answer>` tag. I need to ensure that each answer starts on a new line after the tool.\n",
      "\n",
      "Alright, so putting it all together:\n",
      "\n",
      "1. Use `get_weather Hilo` within a `<tool>` tag.\n",
      "2. Capture the response from the tool.\n",
      "3. Format it as `<answer>It's [weather details]</answer>`.\n",
      "\n",
      "I should also make sure that I'm using the correct syntax and that each line is properly indented or spaced according to the user's instructions. Any mistakes here might cause formatting issues in the final output.\n",
      "\n",
      "Is there anything else I need to consider? Maybe checking if the city name is correctly spelled, as typos could lead to errors. Also, ensuring that I'm using the right tool for the right information—weather vs. news. In this case, weather is the focus, so no need to mix in any news data.\n",
      "\n",
      "I think that's all set. Time to write it out.\n",
      "</think>\n",
      "\n",
      "To find the current weather in Hilo, Hawaii, we'll use the `get_weather` tool:\n",
      "\n",
      "<tool name=\"get_weather\">Hilo</tool>\n",
      "\n",
      "The weather in Hilo is currently balmy with a temperature of 72 degrees and no rain.\n",
      "\n",
      "<answer>It's a balmy 72 degrees and no rain</answer>"
     ]
    }
   ],
   "source": [
    "model = 'hf.co/unsloth/DeepSeek-R1-Distill-Llama-8B-GGUF:Q8_0'\n",
    "stream = generate(model=model, prompt='''\\\n",
    "When you thinking about a questions, you will have access two tools that you can use to find out more information:\n",
    "1. get_weather(city: str) -> str: Returns the current weather in the given city.\n",
    "2. get_news(city: str) -> str: Returns the latest news in the given city.\n",
    "                  \n",
    "You use them inside a <tool> tag, and the results will be printed in an <answer> tag. It will be formatted like this on a line by itself:\n",
    "\n",
    "<tool name=\"get_weather\">the city name</tool>\n",
    "\n",
    "and then the answers will follow on the subsequent lines within an <answer> tag.\n",
    "                                   \n",
    "\n",
    "<｜User｜>\n",
    "What's happening in New York City?\n",
    "<｜Assistant｜><think>I need to use the get_news tool:\n",
    "                  \n",
    "<tool name=\"get_news\">New York City</tool>\n",
    "<answer>There was a volcanic erruption in Manhatton today. It was a big deal.</answer>                  \n",
    "</think>\n",
    "\n",
    "Wild news, in Manhatton of all places today, there was a volcanic erruption. It was a big deal!                  \n",
    "<｜User｜>What is the weather for Hilo, Hawaii?\n",
    "<｜Assistant｜>To find out the current weather in Hilo, Hawaii, I'll use the `get_weather` tool.\n",
    "\n",
    "<tool name=\"get_weather\">Hilo</tool>\n",
    "<answer>It's a balmy 72 degrees and no rain</answer>''', stream=True)\n",
    "\n",
    "\n",
    "for chunk in stream:\n",
    "    print(chunk.response, end=\"\")"
   ]
  },
  {
   "cell_type": "code",
   "execution_count": 42,
   "metadata": {},
   "outputs": [
    {
     "name": "stdout",
     "output_type": "stream",
     "text": [
      "\n",
      "\n",
      "The weather in Hilo, Hawaii, is currently 72 degrees with clear skies and no precipitation."
     ]
    }
   ],
   "source": [
    "model = 'hf.co/unsloth/DeepSeek-R1-Distill-Llama-8B-GGUF:Q8_0'\n",
    "stream = generate(model=model, prompt='''\\\n",
    "When you thinking about a questions, you will have access two tools that you can use to find out more information:\n",
    "1. get_weather(city: str) -> str: Returns the current weather in the given city.\n",
    "2. get_news(city: str) -> str: Returns the latest news in the given city.\n",
    "                  \n",
    "You use them inside a <tool> tag, and the results will be printed in an <answer> tag. It will be formatted like this on a line by itself:\n",
    "\n",
    "<tool name=\"get_weather\">the city name</tool>\n",
    "\n",
    "and then the answers will follow on the subsequent lines within an <answer> tag. When responding to the user you should not use an <answer> tag or <tool> tag.\n",
    "                                   \n",
    "\n",
    "<｜User｜>\n",
    "What's happening in New York City?\n",
    "<｜Assistant｜><think>I need to use the get_news tool:\n",
    "                  \n",
    "<tool name=\"get_news\">New York City</tool>\n",
    "<answer>There was a volcanic erruption in Manhatton today. It was a big deal.</answer>                  \n",
    "</think>\n",
    "\n",
    "Wild news, in Manhatton of all places today, there was a volcanic erruption. It was a big deal!                  \n",
    "<｜User｜>What is the weather for Hilo, Hawaii?\n",
    "<｜Assistant｜><think>To find out the current weather in Hilo, Hawaii, I'll use the `get_weather` tool.\n",
    "\n",
    "<tool name=\"get_weather\">Hilo</tool>\n",
    "<answer>It's a balmy 72 degrees and no rain</answer>\n",
    "</think>\n",
    "<｜User｜>answer me\n",
    "<｜Assistant｜>''', stream=True)\n",
    "\n",
    "\n",
    "for chunk in stream:\n",
    "    print(chunk.response, end=\"\")"
   ]
  }
 ],
 "metadata": {
  "kernelspec": {
   "display_name": "scratch",
   "language": "python",
   "name": "python3"
  },
  "language_info": {
   "codemirror_mode": {
    "name": "ipython",
    "version": 3
   },
   "file_extension": ".py",
   "mimetype": "text/x-python",
   "name": "python",
   "nbconvert_exporter": "python",
   "pygments_lexer": "ipython3",
   "version": "3.11.9"
  }
 },
 "nbformat": 4,
 "nbformat_minor": 2
}
