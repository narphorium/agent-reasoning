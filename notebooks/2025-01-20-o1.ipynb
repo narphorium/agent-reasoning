{
 "cells": [
  {
   "cell_type": "code",
   "execution_count": 1,
   "metadata": {},
   "outputs": [],
   "source": [
    "%load_ext autoreload\n",
    "%autoreload 2"
   ]
  },
  {
   "cell_type": "code",
   "execution_count": 2,
   "metadata": {},
   "outputs": [],
   "source": [
    "%load_ext dotenv\n",
    "%dotenv"
   ]
  },
  {
   "cell_type": "code",
   "execution_count": 3,
   "metadata": {},
   "outputs": [
    {
     "name": "stdout",
     "output_type": "stream",
     "text": [
      "The sky appears blue to us because of the way Earth's atmosphere interacts with sunlight. This phenomenon is primarily due to a process called **Rayleigh scattering**, which affects how light is scattered by the molecules and tiny particles in the atmosphere.\n",
      "\n",
      "**Here's how it works:**\n",
      "\n",
      "1. **Sunlight Composition**: Sunlight may appear white to our eyes, but it's actually made up of all the colors of the visible spectrum—red, orange, yellow, green, blue, indigo, and violet. Each of these colors corresponds to a different wavelength of light.\n",
      "\n",
      "2. **Interaction with the Atmosphere**: When sunlight reaches Earth, it passes through the atmosphere, which is filled with gases like nitrogen and oxygen, as well as tiny particles. As the light encounters these molecules and particles, it doesn't simply pass straight through; instead, it interacts with them.\n",
      "\n",
      "3. **Scattering of Light**:\n",
      "   - **Shorter Wavelengths Scatter More**: Rayleigh scattering tells us that shorter wavelengths of light (blue and violet) are scattered more than longer wavelengths (red and orange). This scattering is inversely proportional to the fourth power of the wavelength, meaning that shorter wavelengths are scattered much more intensely.\n",
      "   - **Why Not Violet?**: Even though violet light has an even shorter wavelength than blue light and is scattered more, our eyes are less sensitive to violet. Additionally, some of the violet light is absorbed by the upper atmosphere. When combined with the sensitivity of our eyes, the scattered light we predominantly perceive is blue.\n",
      "\n",
      "4. **Resulting Sky Color**:\n",
      "   - **Blue Sky**: The scattered blue light reaches us from all directions in the sky. So, when you look up, you see this scattered blue light coming from every part of the atmosphere, making the sky appear blue.\n",
      "   - **Sunrise and Sunset Colors**: During sunrise and sunset, the sun is low on the horizon. This means sunlight has to pass through more of the atmosphere to reach our eyes. The increased distance scatters away even more of the shorter wavelengths, allowing the longer wavelengths (reds and oranges) to become more prominent, which is why the sky can appear red or orange during these times.\n",
      "\n",
      "**In Summary**:\n",
      "\n",
      "- **The sky is blue because**:\n",
      "  - Blue light from the sun is scattered in all directions by the gases and particles in Earth's atmosphere.\n",
      "  - Blue is scattered more than other colors because it travels as shorter, smaller waves.\n",
      "- **Our perception**:\n",
      "  - Our eyes perceive this scattered blue light coming from every direction, making the sky look blue to us.\n",
      "\n",
      "**Additional Interesting Fact**:\n",
      "\n",
      "- This effect isn't unique to Earth. Planets with different atmospheric compositions can have skies of varying colors. For example, Mars has a thin atmosphere filled with reddish dust, causing its sky to often appear pinkish or butterscotch in color.\n",
      "\n",
      "**Understanding Rayleigh Scattering Helps Explain**:\n",
      "\n",
      "- **Why the ocean looks blue**: The ocean also appears blue because it reflects the color of the sky and because water absorbs colors at the red end of the light spectrum and reflects the blue.\n",
      "- **Why distant mountains appear blue**: The scattering of blue light over long distances makes distant objects take on a bluish hue.\n",
      "\n",
      "**Conclusion**:\n",
      "\n",
      "The beautiful blue sky is a result of the intricate interplay between sunlight and Earth's atmosphere. The scattering of shorter wavelength light leads to the dominance of blue in our sky, a daily reminder of the subtleties of physics at work in our natural world.\n"
     ]
    }
   ],
   "source": [
    "import os\n",
    "from openai import OpenAI\n",
    "\n",
    "client = OpenAI(\n",
    "    api_key=os.environ.get(\"OPENAI_API_KEY\"),\n",
    ")\n",
    "\n",
    "chat_completion = client.chat.completions.create(\n",
    "    messages=[\n",
    "        {\n",
    "            \"role\": \"user\",\n",
    "            \"content\": \"Why is the sky blue?\",\n",
    "        }\n",
    "    ],\n",
    "    model=\"o1-preview\",\n",
    ")\n",
    "\n",
    "print(chat_completion.choices[0].message.content)\n"
   ]
  }
 ],
 "metadata": {
  "kernelspec": {
   "display_name": ".venv",
   "language": "python",
   "name": "python3"
  },
  "language_info": {
   "codemirror_mode": {
    "name": "ipython",
    "version": 3
   },
   "file_extension": ".py",
   "mimetype": "text/x-python",
   "name": "python",
   "nbconvert_exporter": "python",
   "pygments_lexer": "ipython3",
   "version": "3.12.4"
  }
 },
 "nbformat": 4,
 "nbformat_minor": 2
}
